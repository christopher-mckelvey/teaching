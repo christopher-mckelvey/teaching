{
 "cells": [
  {
   "cell_type": "markdown",
   "id": "34b94c59-19b2-4c25-9eef-6d5cb99778d6",
   "metadata": {},
   "source": [
    "# Econ 390 - Lecture 3 - Markdown\n",
    "In this notebook we'll practice formating text in Markdown cells"
   ]
  },
  {
   "cell_type": "markdown",
   "id": "e317913b-fe69-4825-ad09-d63563d11c04",
   "metadata": {
    "tags": []
   },
   "source": [
    "## Goal: Try formatting section titles as headers\n",
    "\n",
    "1  Preliminaries\n",
    "\n",
    "This Open Access web version of Python for Data Analysis 3rd Edition is now available as a companion to the print and digital editions.\n",
    "\n",
    "1.1 What Is This Book About?\n",
    "\n",
    "This book is concerned with the nuts and bolts of manipulating, processing, cleaning, and crunching data in Python. \n",
    "\n",
    "What Kinds of Data?\n",
    "\n",
    "When I say “data,” what am I referring to exactly?"
   ]
  },
  {
   "cell_type": "markdown",
   "id": "a91d225e-8bc4-44c8-a97b-20c2a4405eac",
   "metadata": {},
   "source": [
    "## Goal: Try italics, bold, strikethrough, and monospace\n",
    "\n",
    "*Italics* are used for emphasis, and also for the titles of things like books, plays, newspapers, and movies.  The highest grossing film of all time is Gone with the Wind.\n",
    "\n",
    "**Bold** is used for even greater emphasis.  Never count your chickens before they hatch!\n",
    "\n",
    "~~Strikethrough~~ is used when we wish to make it obvious that a change was made.  Madison is in Minnesota.  Actually, Madison is in Wisconsin.\n",
    "\n",
    "`Monospace` is used for file paths, file names, and computer code.  On my Mac, Anaconda installed itself into the /opt/anaconda3/ folder.\n",
    "\n",
    "How do we underline?  Is it _this_?  Or __this__?"
   ]
  },
  {
   "cell_type": "markdown",
   "id": "1c52143e-03b3-479a-a34e-823c67227ec9",
   "metadata": {},
   "source": [
    "## Goal: Understand handling of line breaks\n",
    "\n",
    "Here are some lyrics from \"Gumboots\" by Paul Simon, which is one of my favorite songs:\n",
    "\n",
    "I was having this discussion\n",
    "in a taxi heading downtown\n",
    "rearranging my position\n",
    "on this friend of mine who had\n",
    "a little bit of a breakdown."
   ]
  },
  {
   "cell_type": "markdown",
   "id": "ae779e7c-9d00-46a3-bd5f-e8aa0d27c75e",
   "metadata": {
    "jp-MarkdownHeadingCollapsed": true,
    "tags": []
   },
   "source": [
    "## Goal: Try block quoting text\n",
    "\n",
    "We use a block quote when we wish to quote a large chunk of text.  For example, here's the full first verse of that song:\n",
    "\n",
    "I was having this discussion  \n",
    "in a taxi heading downtown  \n",
    "rearranging my position  \n",
    "on this friend of mine who had  \n",
    "a little bit of a breakdown.  I said:  \n",
    "“Hey, you know, breakdowns come  \n",
    "and breakdowns go.  \n",
    "So what are you going to do about it?  \n",
    "That’s what I’d like to know.”  \n"
   ]
  },
  {
   "cell_type": "markdown",
   "id": "7ecaa0e2-7c53-48e2-91dc-29984b28b079",
   "metadata": {},
   "source": [
    "## Goal: Try formatting a code block\n",
    "\n",
    "Remind yourself how to format a short block of code, like x=2, in the middle of normal text.\n",
    "\n",
    "Then try formatting a larger block of code using a code fence:\n",
    "\n",
    "x = 10\n",
    "print(x)"
   ]
  },
  {
   "cell_type": "markdown",
   "id": "4e16624c-189e-4f95-a099-11d2b4ebf9a8",
   "metadata": {
    "tags": []
   },
   "source": [
    "## Goal: Try making lists\n",
    "\n",
    "An Elvis sandwich contains:\n",
    "toasted bread\n",
    "peanut butter\n",
    "banana\n",
    "bacon (optional)\n",
    "honey or jelly (optional)"
   ]
  },
  {
   "cell_type": "markdown",
   "id": "187f00ce-f18b-4ba7-ab43-7b69f4499b5d",
   "metadata": {},
   "source": [
    "## Goal: Try making a nested list\n",
    "\n",
    "1. Wisconsin\n",
    "    1. Madison\n",
    "2. Milwaukee\n",
    "2. Minnesota\n",
    "    1. Minneapolis\n",
    "    2. Ely\n",
    "3. Michigan\n",
    "    1. Detroit\n",
    "    2. Grand Rapids\n",
    "    3. Kalamazoo"
   ]
  },
  {
   "cell_type": "markdown",
   "id": "3fc4cb6f-e95c-486b-90a6-59151e45e58b",
   "metadata": {},
   "source": [
    "## Goal: Try adding a link and an image\n",
    "\n",
    "Going back to our Elvis sandwich, it contained:\n",
    "1. toasted bread\n",
    "2. peanut butter\n",
    "3. banana\n",
    "4. bacon (optional)\n",
    "5. honey or jelly (optional)\n",
    "\n",
    "The Wikipedia article on the Elvis Sandwich can be found here:\n",
    "[test](https://en.wikipedia.org/wiki/Peanut_butter,_banana_and_bacon_sandwich \"name\")\n",
    "\n",
    "And here's a direct link to the picture in the Wikipedia article:\n",
    "![test](https://upload.wikimedia.org/wikipedia/commons/b/b5/ElvisSandwich.jpg)"
   ]
  },
  {
   "cell_type": "markdown",
   "id": "523f0b75-95fa-43de-82aa-4147c4adf5c0",
   "metadata": {},
   "source": [
    "## Goal: Try anchor links\n",
    "\n",
    "### Table of contents:\n",
    "1. [Top of Document](#Econ-390---Lecture-3---Markdown)\n",
    "1. [Formatting section titles as headers](#Goal:-Try-formatting-section-titles-as-headers)\n",
    "2. [Italics, bold, strikethrough, and monospace](#Goal:-Try-italics,-bold,-strikethrough,-and-monospace)\n",
    "3. [Handling of line breaks](#Goal:-Understand-handling-of-line-breaks)\n",
    "4. [Block quoting text](#Goal:-Try-block-quoting-text)\n",
    "5. [Formatting a code block](#Goal:-Try-formatting-a-code-block)\n",
    "6. [Making lists](#Goal:-Try-making-lists)\n",
    "7. [Making a nested list](##Goal:-Try-making-a-nested-list)\n",
    "8. [Adding a link and an image](#Goal:-Try-adding-a-link-and-an-image)\n",
    "9. [Anchor links](#Goal:-Try-anchor-links)\n",
    "\n",
    "Try it out:\n",
    "1. Make **this text** a link to the \"What Kinds of Data?\" header you made earlier\n",
    "2. Create an anchor point anywhere in the notebook that you like, render that Markdown cell, then come back here and make **this text** an anchor to that link."
   ]
  },
  {
   "cell_type": "markdown",
   "id": "210dec22-2ca8-46b4-8ca5-aa1ffd7335c4",
   "metadata": {},
   "source": [
    "## Goal: Try a horizontal rule\n",
    "\n",
    "Lorem ipsum odor amet, consectetuer adipiscing elit. Tortor urna curabitur mollis ornare tellus donec. Pharetra suscipit dictum leo at ut lacinia vivamus phasellus. Accumsan sagittis maecenas proin aliquam platea himenaeos ac conubia. Luctus consectetur suscipit maximus, eleifend ipsum at ac ad? Hac tristique duis vivamus iaculis est vulputate nam. Egestas sagittis ipsum elementum mi habitasse metus nisi donec. Mi ridiculus fermentum nulla aptent mattis eleifend id aliquet convallis. Quis sit porta urna; facilisis quam pharetra. Phasellus risus morbi nullam, viverra tincidunt consectetur ullamcorper urna.\n",
    "\n",
    "Dignissim vivamus donec penatibus id nunc potenti platea fames rhoncus. Scelerisque primis lacinia tincidunt gravida ad neque; nec elementum. Id porttitor netus lectus dictum habitant nibh nunc. Purus bibendum felis iaculis fusce ad class phasellus rutrum et. Lorem auctor magnis elit mattis nam condimentum. Scelerisque varius nascetur gravida mauris vulputate commodo. Fringilla potenti sem luctus mus porttitor magna.\n",
    "\n",
    "Neque finibus proin condimentum porta, faucibus lectus urna. Tortor ipsum euismod sollicitudin nunc mollis tellus a vestibulum. Elit volutpat quisque molestie; class donec maecenas. Facilisis eu platea fusce natoque malesuada ligula ut. Tempus porttitor sapien tincidunt hac; fames et id vel. Morbi ullamcorper habitant sed posuere duis orci."
   ]
  },
  {
   "cell_type": "markdown",
   "id": "0d3debbe-7f4e-4586-88b1-43a3f8ae2194",
   "metadata": {
    "jp-MarkdownHeadingCollapsed": true,
    "tags": []
   },
   "source": [
    "## Goal: Try single and double dollar signs for equations\n",
    "\n",
    "This is the letter \\alpha, which is the first letter of the greek alphabet."
   ]
  },
  {
   "cell_type": "markdown",
   "id": "e94320ab-6016-4532-9b71-4f4e29390b2c",
   "metadata": {
    "tags": []
   },
   "source": [
    "## Goal: Try a Table\n",
    "\n",
    "Here's a table with some common latex notation:\n",
    "\n",
    "| Latex Notation | Rendered Equation |\n",
    "|:-------------- |:-----------------:|\n",
    "| \\alpha         | $\\alpha$          |\n",
    "| \\Delta         | $\\Delta$          |\n",
    "| x^2            | $x^2$             |\n",
    "| x_i            | $x_i$             |\n",
    "| \\sqrt{x}       | $\\sqrt{x}$        |\n",
    "| \\frac{x}{y}    | $\\frac{x}{y}$     |\n",
    "| \\hat{x}        | $\\hat{x}$         |\n",
    "| \\bar{x}        | $\\bar{x}$         |\n",
    "| \\infty         | $\\infty$          |\n",
    "| \\int_{a}^{b}   | $\\int_{a}^{b}$    |\n",
    "| \\sum_{i=1}^{n} | $\\sum_{i=1}^{n}$  | "
   ]
  },
  {
   "cell_type": "markdown",
   "id": "3be74cd2-c31e-4bc5-a47d-08094fb88d12",
   "metadata": {},
   "source": [
    "## Goal: Try a more complicated equation\n",
    "\n",
    "The Cobb Douglas Production Function is:\n",
    "\n",
    "So the marginal productivity of labor is:"
   ]
  },
  {
   "cell_type": "markdown",
   "id": "90cd5a3c-87a1-4b00-986c-7d8464df7d45",
   "metadata": {},
   "source": [
    "## Goal: Look at a few more \"HTML Hacks\" that might be useful\n",
    "\n",
    "How can we center this text?\n",
    "\n",
    "This text is Indigo!\n"
   ]
  }
 ],
 "metadata": {
  "kernelspec": {
   "display_name": "Python 3 (ipykernel)",
   "language": "python",
   "name": "python3"
  },
  "language_info": {
   "codemirror_mode": {
    "name": "ipython",
    "version": 3
   },
   "file_extension": ".py",
   "mimetype": "text/x-python",
   "name": "python",
   "nbconvert_exporter": "python",
   "pygments_lexer": "ipython3",
   "version": "3.11.7"
  }
 },
 "nbformat": 4,
 "nbformat_minor": 5
}
